{
 "cells": [
  {
   "cell_type": "code",
   "execution_count": 1,
   "metadata": {
    "ExecuteTime": {
     "end_time": "2019-02-19T11:18:49.953047Z",
     "start_time": "2019-02-19T11:18:49.171290Z"
    }
   },
   "outputs": [
    {
     "name": "stdout",
     "output_type": "stream",
     "text": [
      "Column 'col_uint8' converted from type 'int64' to 'uint8'.\n",
      "Compression rate is 7.29% with a memory usage of 0.85MB\n",
      "==================================================\n",
      "Column 'col_uint16' converted from type 'int64' to 'uint16'.\n",
      "Compression rate is 6.74% with a memory usage of 0.79MB\n",
      "==================================================\n",
      "Column 'col_uint32' converted from type 'int64' to 'uint32'.\n",
      "Compression rate is 7.23% with a memory usage of 0.73MB\n",
      "==================================================\n",
      "Column 'col_int8' converted from type 'int64' to 'int8'.\n",
      "Compression rate is 9.09% with a memory usage of 0.67MB\n",
      "==================================================\n",
      "Column 'col_int16' converted from type 'int64' to 'int16'.\n",
      "Compression rate is 8.57% with a memory usage of 0.61MB\n",
      "==================================================\n",
      "Column 'col_int32' converted from type 'int64' to 'int32'.\n",
      "Compression rate is 6.25% with a memory usage of 0.57MB\n",
      "==================================================\n",
      "Column 'col_float16' converted from type 'float64' to 'float16'.\n",
      "Compression rate is 10.00% with a memory usage of 0.52MB\n",
      "==================================================\n",
      "Column 'col_float32' converted from type 'float64' to 'float32'.\n",
      "Compression rate is 7.41% with a memory usage of 0.48MB\n",
      "==================================================\n",
      "\n",
      "Memory before compress was 0.92MB and now it is 0.48MB.\n",
      "Total compress rate: 47.91%\n"
     ]
    }
   ],
   "source": [
    "import numpy as np\n",
    "import pandas as pd\n",
    "import sys\n",
    "sys.path.append(\"../src/\")\n",
    "from reduce_memory_size_pandas_dataframe import *\n",
    "\n",
    "n = 10000\n",
    "\n",
    "df = pd.DataFrame({\n",
    "    \"string_column\":\n",
    "    np.random.choice([\"a\", \"b\"], n),\n",
    "    \"col_uint8\":\n",
    "    np.random.randint(0, 255, n),\n",
    "    \"col_uint16\":\n",
    "    np.random.randint(0, 65535, n),\n",
    "    \"col_uint32\":\n",
    "    np.random.randint(0, 4294967295, n),\n",
    "    \"col_uint64\":\n",
    "    np.random.randint(0, 10000000000, n),\n",
    "    \"col_int8\":\n",
    "    np.random.randint(-127, 127, n),\n",
    "    \"col_int16\":\n",
    "    np.random.randint(-32768, 32767, n),\n",
    "    \"col_int32\":\n",
    "    np.random.randint(-2147483648, 2147483647, n),\n",
    "    \"col_int64\":\n",
    "    np.random.randint(-9223372036854775808, 10000000000, n),\n",
    "    \"col_float16\":\n",
    "    np.random.uniform(-65504, 65504, n),\n",
    "    \"col_float32\":\n",
    "    np.random.uniform(-3.40282e+38, 3.40282e+38, n),\n",
    "    \"col_float64\":\n",
    "    np.random.uniform(-1e+40, 1e+40, n)\n",
    "})\n",
    "\n",
    "df_compressed = compress_pandas_dataframe(df)"
   ]
  }
 ],
 "metadata": {
  "hide_input": false,
  "kernelspec": {
   "display_name": "Python 3",
   "language": "python",
   "name": "python3"
  },
  "language_info": {
   "codemirror_mode": {
    "name": "ipython",
    "version": 3
   },
   "file_extension": ".py",
   "mimetype": "text/x-python",
   "name": "python",
   "nbconvert_exporter": "python",
   "pygments_lexer": "ipython3",
   "version": "3.7.1"
  },
  "toc": {
   "base_numbering": 1,
   "nav_menu": {},
   "number_sections": true,
   "sideBar": true,
   "skip_h1_title": false,
   "title_cell": "Table of Contents",
   "title_sidebar": "Contents",
   "toc_cell": false,
   "toc_position": {},
   "toc_section_display": true,
   "toc_window_display": false
  },
  "varInspector": {
   "cols": {
    "lenName": 16,
    "lenType": 16,
    "lenVar": 40
   },
   "kernels_config": {
    "python": {
     "delete_cmd_postfix": "",
     "delete_cmd_prefix": "del ",
     "library": "var_list.py",
     "varRefreshCmd": "print(var_dic_list())"
    },
    "r": {
     "delete_cmd_postfix": ") ",
     "delete_cmd_prefix": "rm(",
     "library": "var_list.r",
     "varRefreshCmd": "cat(var_dic_list()) "
    }
   },
   "types_to_exclude": [
    "module",
    "function",
    "builtin_function_or_method",
    "instance",
    "_Feature"
   ],
   "window_display": false
  }
 },
 "nbformat": 4,
 "nbformat_minor": 2
}
