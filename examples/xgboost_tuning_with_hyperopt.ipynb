{
 "cells": [
  {
   "cell_type": "markdown",
   "metadata": {},
   "source": [
    "# Lirbaries"
   ]
  },
  {
   "cell_type": "code",
   "execution_count": 1,
   "metadata": {
    "ExecuteTime": {
     "end_time": "2019-02-22T13:39:10.473900Z",
     "start_time": "2019-02-22T13:39:09.592816Z"
    }
   },
   "outputs": [],
   "source": [
    "import numpy as np\n",
    "import pandas as pd\n",
    "import sys\n",
    "sys.path.append(\"../src/\")\n",
    "from xgboost_tuning_with_hyperopt import *\n",
    "\n",
    "from sklearn.datasets import load_breast_cancer, load_boston\n",
    "from sklearn.model_selection import train_test_split\n",
    "\n",
    "import matplotlib\n",
    "import matplotlib.pyplot as plt\n",
    "%matplotlib inline "
   ]
  },
  {
   "cell_type": "markdown",
   "metadata": {},
   "source": [
    "# Classification\n",
    "\n",
    "## Load data"
   ]
  },
  {
   "cell_type": "code",
   "execution_count": 2,
   "metadata": {
    "ExecuteTime": {
     "end_time": "2019-02-22T13:39:10.506846Z",
     "start_time": "2019-02-22T13:39:10.476460Z"
    }
   },
   "outputs": [
    {
     "name": "stdout",
     "output_type": "stream",
     "text": [
      "dict_keys(['data', 'target', 'target_names', 'DESCR', 'feature_names', 'filename'])\n"
     ]
    },
    {
     "data": {
      "text/html": [
       "<div>\n",
       "<style scoped>\n",
       "    .dataframe tbody tr th:only-of-type {\n",
       "        vertical-align: middle;\n",
       "    }\n",
       "\n",
       "    .dataframe tbody tr th {\n",
       "        vertical-align: top;\n",
       "    }\n",
       "\n",
       "    .dataframe thead th {\n",
       "        text-align: right;\n",
       "    }\n",
       "</style>\n",
       "<table border=\"1\" class=\"dataframe\">\n",
       "  <thead>\n",
       "    <tr style=\"text-align: right;\">\n",
       "      <th></th>\n",
       "      <th>mean radius</th>\n",
       "      <th>mean texture</th>\n",
       "      <th>mean perimeter</th>\n",
       "      <th>mean area</th>\n",
       "      <th>mean smoothness</th>\n",
       "      <th>mean compactness</th>\n",
       "      <th>mean concavity</th>\n",
       "      <th>mean concave points</th>\n",
       "      <th>mean symmetry</th>\n",
       "      <th>mean fractal dimension</th>\n",
       "      <th>...</th>\n",
       "      <th>worst radius</th>\n",
       "      <th>worst texture</th>\n",
       "      <th>worst perimeter</th>\n",
       "      <th>worst area</th>\n",
       "      <th>worst smoothness</th>\n",
       "      <th>worst compactness</th>\n",
       "      <th>worst concavity</th>\n",
       "      <th>worst concave points</th>\n",
       "      <th>worst symmetry</th>\n",
       "      <th>worst fractal dimension</th>\n",
       "    </tr>\n",
       "  </thead>\n",
       "  <tbody>\n",
       "    <tr>\n",
       "      <th>0</th>\n",
       "      <td>17.99</td>\n",
       "      <td>10.38</td>\n",
       "      <td>122.80</td>\n",
       "      <td>1001.0</td>\n",
       "      <td>0.11840</td>\n",
       "      <td>0.27760</td>\n",
       "      <td>0.3001</td>\n",
       "      <td>0.14710</td>\n",
       "      <td>0.2419</td>\n",
       "      <td>0.07871</td>\n",
       "      <td>...</td>\n",
       "      <td>25.38</td>\n",
       "      <td>17.33</td>\n",
       "      <td>184.60</td>\n",
       "      <td>2019.0</td>\n",
       "      <td>0.1622</td>\n",
       "      <td>0.6656</td>\n",
       "      <td>0.7119</td>\n",
       "      <td>0.2654</td>\n",
       "      <td>0.4601</td>\n",
       "      <td>0.11890</td>\n",
       "    </tr>\n",
       "    <tr>\n",
       "      <th>1</th>\n",
       "      <td>20.57</td>\n",
       "      <td>17.77</td>\n",
       "      <td>132.90</td>\n",
       "      <td>1326.0</td>\n",
       "      <td>0.08474</td>\n",
       "      <td>0.07864</td>\n",
       "      <td>0.0869</td>\n",
       "      <td>0.07017</td>\n",
       "      <td>0.1812</td>\n",
       "      <td>0.05667</td>\n",
       "      <td>...</td>\n",
       "      <td>24.99</td>\n",
       "      <td>23.41</td>\n",
       "      <td>158.80</td>\n",
       "      <td>1956.0</td>\n",
       "      <td>0.1238</td>\n",
       "      <td>0.1866</td>\n",
       "      <td>0.2416</td>\n",
       "      <td>0.1860</td>\n",
       "      <td>0.2750</td>\n",
       "      <td>0.08902</td>\n",
       "    </tr>\n",
       "    <tr>\n",
       "      <th>2</th>\n",
       "      <td>19.69</td>\n",
       "      <td>21.25</td>\n",
       "      <td>130.00</td>\n",
       "      <td>1203.0</td>\n",
       "      <td>0.10960</td>\n",
       "      <td>0.15990</td>\n",
       "      <td>0.1974</td>\n",
       "      <td>0.12790</td>\n",
       "      <td>0.2069</td>\n",
       "      <td>0.05999</td>\n",
       "      <td>...</td>\n",
       "      <td>23.57</td>\n",
       "      <td>25.53</td>\n",
       "      <td>152.50</td>\n",
       "      <td>1709.0</td>\n",
       "      <td>0.1444</td>\n",
       "      <td>0.4245</td>\n",
       "      <td>0.4504</td>\n",
       "      <td>0.2430</td>\n",
       "      <td>0.3613</td>\n",
       "      <td>0.08758</td>\n",
       "    </tr>\n",
       "    <tr>\n",
       "      <th>3</th>\n",
       "      <td>11.42</td>\n",
       "      <td>20.38</td>\n",
       "      <td>77.58</td>\n",
       "      <td>386.1</td>\n",
       "      <td>0.14250</td>\n",
       "      <td>0.28390</td>\n",
       "      <td>0.2414</td>\n",
       "      <td>0.10520</td>\n",
       "      <td>0.2597</td>\n",
       "      <td>0.09744</td>\n",
       "      <td>...</td>\n",
       "      <td>14.91</td>\n",
       "      <td>26.50</td>\n",
       "      <td>98.87</td>\n",
       "      <td>567.7</td>\n",
       "      <td>0.2098</td>\n",
       "      <td>0.8663</td>\n",
       "      <td>0.6869</td>\n",
       "      <td>0.2575</td>\n",
       "      <td>0.6638</td>\n",
       "      <td>0.17300</td>\n",
       "    </tr>\n",
       "    <tr>\n",
       "      <th>4</th>\n",
       "      <td>20.29</td>\n",
       "      <td>14.34</td>\n",
       "      <td>135.10</td>\n",
       "      <td>1297.0</td>\n",
       "      <td>0.10030</td>\n",
       "      <td>0.13280</td>\n",
       "      <td>0.1980</td>\n",
       "      <td>0.10430</td>\n",
       "      <td>0.1809</td>\n",
       "      <td>0.05883</td>\n",
       "      <td>...</td>\n",
       "      <td>22.54</td>\n",
       "      <td>16.67</td>\n",
       "      <td>152.20</td>\n",
       "      <td>1575.0</td>\n",
       "      <td>0.1374</td>\n",
       "      <td>0.2050</td>\n",
       "      <td>0.4000</td>\n",
       "      <td>0.1625</td>\n",
       "      <td>0.2364</td>\n",
       "      <td>0.07678</td>\n",
       "    </tr>\n",
       "  </tbody>\n",
       "</table>\n",
       "<p>5 rows × 30 columns</p>\n",
       "</div>"
      ],
      "text/plain": [
       "   mean radius  mean texture  mean perimeter  mean area  mean smoothness  \\\n",
       "0        17.99         10.38          122.80     1001.0          0.11840   \n",
       "1        20.57         17.77          132.90     1326.0          0.08474   \n",
       "2        19.69         21.25          130.00     1203.0          0.10960   \n",
       "3        11.42         20.38           77.58      386.1          0.14250   \n",
       "4        20.29         14.34          135.10     1297.0          0.10030   \n",
       "\n",
       "   mean compactness  mean concavity  mean concave points  mean symmetry  \\\n",
       "0           0.27760          0.3001              0.14710         0.2419   \n",
       "1           0.07864          0.0869              0.07017         0.1812   \n",
       "2           0.15990          0.1974              0.12790         0.2069   \n",
       "3           0.28390          0.2414              0.10520         0.2597   \n",
       "4           0.13280          0.1980              0.10430         0.1809   \n",
       "\n",
       "   mean fractal dimension           ...             worst radius  \\\n",
       "0                 0.07871           ...                    25.38   \n",
       "1                 0.05667           ...                    24.99   \n",
       "2                 0.05999           ...                    23.57   \n",
       "3                 0.09744           ...                    14.91   \n",
       "4                 0.05883           ...                    22.54   \n",
       "\n",
       "   worst texture  worst perimeter  worst area  worst smoothness  \\\n",
       "0          17.33           184.60      2019.0            0.1622   \n",
       "1          23.41           158.80      1956.0            0.1238   \n",
       "2          25.53           152.50      1709.0            0.1444   \n",
       "3          26.50            98.87       567.7            0.2098   \n",
       "4          16.67           152.20      1575.0            0.1374   \n",
       "\n",
       "   worst compactness  worst concavity  worst concave points  worst symmetry  \\\n",
       "0             0.6656           0.7119                0.2654          0.4601   \n",
       "1             0.1866           0.2416                0.1860          0.2750   \n",
       "2             0.4245           0.4504                0.2430          0.3613   \n",
       "3             0.8663           0.6869                0.2575          0.6638   \n",
       "4             0.2050           0.4000                0.1625          0.2364   \n",
       "\n",
       "   worst fractal dimension  \n",
       "0                  0.11890  \n",
       "1                  0.08902  \n",
       "2                  0.08758  \n",
       "3                  0.17300  \n",
       "4                  0.07678  \n",
       "\n",
       "[5 rows x 30 columns]"
      ]
     },
     "execution_count": 2,
     "metadata": {},
     "output_type": "execute_result"
    }
   ],
   "source": [
    "data = load_breast_cancer()\n",
    "print(data.keys())\n",
    "y = pd.Series(data[\"target\"])\n",
    "X = pd.DataFrame(data[\"data\"], columns=data[\"feature_names\"])\n",
    "X.head()"
   ]
  },
  {
   "cell_type": "markdown",
   "metadata": {},
   "source": [
    "## Train a first model\n",
    "\n",
    "### Split in train, valid, test"
   ]
  },
  {
   "cell_type": "code",
   "execution_count": 3,
   "metadata": {
    "ExecuteTime": {
     "end_time": "2019-02-22T13:39:10.512391Z",
     "start_time": "2019-02-22T13:39:10.508365Z"
    }
   },
   "outputs": [],
   "source": [
    "X_train, X_val, y_train, y_val = train_test_split(X,y)\n",
    "X_train, X_test, y_train, y_test = train_test_split(X_train,y_train)"
   ]
  },
  {
   "cell_type": "markdown",
   "metadata": {},
   "source": [
    "### Tune xgboost classfier with hyperopt"
   ]
  },
  {
   "cell_type": "code",
   "execution_count": 4,
   "metadata": {
    "ExecuteTime": {
     "end_time": "2019-02-22T13:39:11.237956Z",
     "start_time": "2019-02-22T13:39:10.513552Z"
    }
   },
   "outputs": [
    {
     "name": "stdout",
     "output_type": "stream",
     "text": [
      "100%|██████████| 10/10 [00:00<00:00, 14.43it/s, best loss: 0.006904216440636546]\n"
     ]
    }
   ],
   "source": [
    "xgb_classifier = XGBClassifierTuning(X_train, y_train, X_val, y_val)"
   ]
  },
  {
   "cell_type": "markdown",
   "metadata": {},
   "source": [
    "### Classification report"
   ]
  },
  {
   "cell_type": "code",
   "execution_count": 5,
   "metadata": {
    "ExecuteTime": {
     "end_time": "2019-02-22T13:39:11.912767Z",
     "start_time": "2019-02-22T13:39:11.239344Z"
    }
   },
   "outputs": [
    {
     "data": {
      "image/png": "[encoded data removed]",
      "text/plain": [
       "<Figure size 432x288 with 1 Axes>"
      ]
     },
     "metadata": {
      "needs_background": "light"
     },
     "output_type": "display_data"
    },
    {
     "data": {
      "image/png": "[encoded data removed]",
      "text/plain": [
       "<Figure size 432x288 with 2 Axes>"
      ]
     },
     "metadata": {
      "needs_background": "light"
     },
     "output_type": "display_data"
    },
    {
     "name": "stdout",
     "output_type": "stream",
     "text": [
      "Classification report\n",
      "              precision    recall  f1-score   support\n",
      "\n",
      "           0       0.93      0.97      0.95        40\n",
      "           1       0.98      0.96      0.97        67\n",
      "\n",
      "   micro avg       0.96      0.96      0.96       107\n",
      "   macro avg       0.96      0.97      0.96       107\n",
      "weighted avg       0.96      0.96      0.96       107\n",
      "\n"
     ]
    },
    {
     "data": {
      "image/png": "[encoded data removed]",
      "text/plain": [
       "<Figure size 432x288 with 1 Axes>"
      ]
     },
     "metadata": {
      "needs_background": "light"
     },
     "output_type": "display_data"
    },
    {
     "data": {
      "image/png": "[encoded data removed]",
      "text/plain": [
       "<Figure size 432x288 with 2 Axes>"
      ]
     },
     "metadata": {
      "needs_background": "light"
     },
     "output_type": "display_data"
    }
   ],
   "source": [
    "xgb_classifier.report(X_test, y_test)"
   ]
  },
  {
   "cell_type": "markdown",
   "metadata": {},
   "source": [
    "## Same process with one function"
   ]
  },
  {
   "cell_type": "code",
   "execution_count": 6,
   "metadata": {
    "ExecuteTime": {
     "end_time": "2019-02-22T13:39:12.419564Z",
     "start_time": "2019-02-22T13:39:11.914073Z"
    }
   },
   "outputs": [
    {
     "name": "stdout",
     "output_type": "stream",
     "text": [
      "100%|██████████| 10/10 [00:00<00:00, 25.23it/s, best loss: 0.00441293988164615]\n"
     ]
    }
   ],
   "source": [
    "X_train, y_train, X_val, y_val, X_test, y_test, xgb_classifier = train_tuned_xgboost(\n",
    "    X, y)"
   ]
  },
  {
   "cell_type": "markdown",
   "metadata": {},
   "source": [
    "## Repeat process to get a benchmark on a dataset"
   ]
  },
  {
   "cell_type": "code",
   "execution_count": 7,
   "metadata": {
    "ExecuteTime": {
     "end_time": "2019-02-22T13:39:18.217589Z",
     "start_time": "2019-02-22T13:39:12.421553Z"
    },
    "scrolled": true
   },
   "outputs": [
    {
     "name": "stderr",
     "output_type": "stream",
     "text": [
      "\r",
      "  0%|          | 0/10 [00:00<?, ?it/s]"
     ]
    },
    {
     "name": "stdout",
     "output_type": "stream",
     "text": [
      "\n",
      "  0%|          | 0/10 [00:00<?, ?it/s, best loss: ?]\u001b[A\n",
      " 30%|███       | 3/10 [00:00<00:00, 21.62it/s, best loss: 0.00490831326233232]\u001b[A\n",
      " 60%|██████    | 6/10 [00:00<00:00, 22.85it/s, best loss: 0.00490831326233232]\u001b[A\n",
      " 90%|█████████ | 9/10 [00:00<00:00, 23.29it/s, best loss: 0.004381049836713835]\u001b[A\n",
      "100%|██████████| 10/10 [00:00<00:00, 23.37it/s, best loss: 0.004381049836713835]\u001b[A"
     ]
    },
    {
     "name": "stderr",
     "output_type": "stream",
     "text": [
      "\r",
      " 10%|█         | 1/10 [00:00<00:04,  2.01it/s]"
     ]
    },
    {
     "name": "stdout",
     "output_type": "stream",
     "text": [
      "\n",
      "  0%|          | 0/10 [00:00<?, ?it/s, best loss: ?]\u001b[A\n",
      " 20%|██        | 2/10 [00:00<00:00, 18.30it/s, best loss: 0.0029567240794659]\u001b[A\n",
      " 40%|████      | 4/10 [00:00<00:00, 18.11it/s, best loss: 0.0021445800269468407]\u001b[A\n",
      " 60%|██████    | 6/10 [00:00<00:00, 17.87it/s, best loss: 0.0011108349858584]   \u001b[A\n",
      " 80%|████████  | 8/10 [00:00<00:00, 18.40it/s, best loss: 0.0001851166234727586]\u001b[A\n",
      "100%|██████████| 10/10 [00:00<00:00, 16.60it/s, best loss: 0.0001851166234727586]\u001b[A\n",
      "\u001b[A"
     ]
    },
    {
     "name": "stderr",
     "output_type": "stream",
     "text": [
      "\r",
      " 20%|██        | 2/10 [00:01<00:04,  1.77it/s]"
     ]
    },
    {
     "name": "stdout",
     "output_type": "stream",
     "text": [
      "\n",
      "  0%|          | 0/10 [00:00<?, ?it/s, best loss: ?]\u001b[A\n",
      " 20%|██        | 2/10 [00:00<00:00, 16.62it/s, best loss: 0.005854123474430484]\u001b[A\n",
      " 40%|████      | 4/10 [00:00<00:00, 16.89it/s, best loss: 0.005854123474430484]\u001b[A\n",
      " 70%|███████   | 7/10 [00:00<00:00, 16.01it/s, best loss: 0.003033008009939442]\u001b[A\n",
      "100%|██████████| 10/10 [00:00<00:00, 17.48it/s, best loss: 0.003033008009939442]\u001b[A\n",
      "\u001b[A"
     ]
    },
    {
     "name": "stderr",
     "output_type": "stream",
     "text": [
      "\r",
      " 30%|███       | 3/10 [00:01<00:04,  1.66it/s]"
     ]
    },
    {
     "name": "stdout",
     "output_type": "stream",
     "text": [
      "\n",
      "  0%|          | 0/10 [00:00<?, ?it/s, best loss: ?]\u001b[A\n",
      " 20%|██        | 2/10 [00:00<00:00, 13.59it/s, best loss: 0.003443148769010307]\u001b[A\n",
      " 40%|████      | 4/10 [00:00<00:00, 14.08it/s, best loss: 0.003443148769010307]\u001b[A\n",
      " 70%|███████   | 7/10 [00:00<00:00, 15.66it/s, best loss: 0.003443148769010307]\u001b[A\n",
      " 90%|█████████ | 9/10 [00:00<00:00, 16.42it/s, best loss: 0.003443148769010307]\u001b[A\n",
      "100%|██████████| 10/10 [00:00<00:00, 17.44it/s, best loss: 0.003443148769010307]\u001b[A"
     ]
    },
    {
     "name": "stderr",
     "output_type": "stream",
     "text": [
      "\r",
      " 40%|████      | 4/10 [00:02<00:03,  1.62it/s]"
     ]
    },
    {
     "name": "stdout",
     "output_type": "stream",
     "text": [
      "\n",
      "  0%|          | 0/10 [00:00<?, ?it/s, best loss: ?]\u001b[A\n",
      " 20%|██        | 2/10 [00:00<00:00, 16.26it/s, best loss: 0.0025410193469039832]\u001b[A\n",
      " 50%|█████     | 5/10 [00:00<00:00, 17.75it/s, best loss: 0.0025410193469039832]\u001b[A\n",
      " 80%|████████  | 8/10 [00:00<00:00, 18.87it/s, best loss: 0.0025410193469039832]\u001b[A\n",
      "100%|██████████| 10/10 [00:00<00:00, 20.60it/s, best loss: 0.0025410193469039832]\u001b[A"
     ]
    },
    {
     "name": "stderr",
     "output_type": "stream",
     "text": [
      "\r",
      " 50%|█████     | 5/10 [00:03<00:03,  1.65it/s]"
     ]
    },
    {
     "name": "stdout",
     "output_type": "stream",
     "text": [
      "\n",
      "  0%|          | 0/10 [00:00<?, ?it/s, best loss: ?]\u001b[A\n",
      " 30%|███       | 3/10 [00:00<00:00, 25.88it/s, best loss: 0.01210545101267435]\u001b[A\n",
      " 60%|██████    | 6/10 [00:00<00:00, 25.29it/s, best loss: 0.008409002510116226]\u001b[A\n",
      " 90%|█████████ | 9/10 [00:00<00:00, 24.91it/s, best loss: 0.008409002510116226]\u001b[A\n",
      "100%|██████████| 10/10 [00:00<00:00, 24.13it/s, best loss: 0.008409002510116226]\u001b[A"
     ]
    },
    {
     "name": "stderr",
     "output_type": "stream",
     "text": [
      "\r",
      " 60%|██████    | 6/10 [00:03<00:02,  1.74it/s]"
     ]
    },
    {
     "name": "stdout",
     "output_type": "stream",
     "text": [
      "\n",
      "  0%|          | 0/10 [00:00<?, ?it/s, best loss: ?]\u001b[A\n",
      " 20%|██        | 2/10 [00:00<00:00, 17.17it/s, best loss: 0.017244778405381633]\u001b[A\n",
      " 50%|█████     | 5/10 [00:00<00:00, 18.69it/s, best loss: 0.017244778405381633]\u001b[A\n",
      " 80%|████████  | 8/10 [00:00<00:00, 20.21it/s, best loss: 0.017244778405381633]\u001b[A\n",
      "100%|██████████| 10/10 [00:00<00:00, 19.78it/s, best loss: 0.017244778405381633]\u001b[A\n",
      "\u001b[A"
     ]
    },
    {
     "name": "stderr",
     "output_type": "stream",
     "text": [
      "\r",
      " 70%|███████   | 7/10 [00:04<00:01,  1.76it/s]"
     ]
    },
    {
     "name": "stdout",
     "output_type": "stream",
     "text": [
      "\n",
      "  0%|          | 0/10 [00:00<?, ?it/s, best loss: ?]\u001b[A\n",
      " 40%|████      | 4/10 [00:00<00:00, 30.72it/s, best loss: 0.005702784397369154]\u001b[A\n",
      " 70%|███████   | 7/10 [00:00<00:00, 29.51it/s, best loss: 0.005702784397369154]\u001b[A\n",
      "100%|██████████| 10/10 [00:00<00:00, 29.42it/s, best loss: 0.004625204880645883]\u001b[A\n",
      "\u001b[A"
     ]
    },
    {
     "name": "stderr",
     "output_type": "stream",
     "text": [
      "\r",
      " 80%|████████  | 8/10 [00:04<00:01,  1.88it/s]"
     ]
    },
    {
     "name": "stdout",
     "output_type": "stream",
     "text": [
      "\n",
      "  0%|          | 0/10 [00:00<?, ?it/s, best loss: ?]\u001b[A\n",
      " 20%|██        | 2/10 [00:00<00:00, 15.67it/s, best loss: 0.003865983613124846]\u001b[A\n",
      " 40%|████      | 4/10 [00:00<00:00, 16.59it/s, best loss: 0.003865983613124846]\u001b[A\n",
      " 60%|██████    | 6/10 [00:00<00:00, 16.73it/s, best loss: 0.003865983613124846]\u001b[A\n",
      " 90%|█████████ | 9/10 [00:00<00:00, 18.79it/s, best loss: 0.003865983613124846]\u001b[A\n",
      "100%|██████████| 10/10 [00:00<00:00, 19.55it/s, best loss: 0.003865983613124846]\u001b[A"
     ]
    },
    {
     "name": "stderr",
     "output_type": "stream",
     "text": [
      "\r",
      " 90%|█████████ | 9/10 [00:05<00:00,  1.83it/s]"
     ]
    },
    {
     "name": "stdout",
     "output_type": "stream",
     "text": [
      "\n",
      "  0%|          | 0/10 [00:00<?, ?it/s, best loss: ?]\u001b[A\n",
      " 30%|███       | 3/10 [00:00<00:00, 23.77it/s, best loss: 0.002992193798593501]\u001b[A\n",
      " 60%|██████    | 6/10 [00:00<00:00, 23.56it/s, best loss: 0.002545928923044949]\u001b[A\n",
      " 80%|████████  | 8/10 [00:00<00:00, 21.76it/s, best loss: 0.002545928923044949]\u001b[A\n",
      "100%|██████████| 10/10 [00:00<00:00, 22.32it/s, best loss: 0.002545928923044949]\u001b[A"
     ]
    },
    {
     "name": "stderr",
     "output_type": "stream",
     "text": [
      "100%|██████████| 10/10 [00:05<00:00,  1.81it/s]\n"
     ]
    }
   ],
   "source": [
    "benchmark_metrics = xgboost_baseline(X, y, n_splits=10)"
   ]
  },
  {
   "cell_type": "code",
   "execution_count": 8,
   "metadata": {
    "ExecuteTime": {
     "end_time": "2019-02-22T13:39:18.440559Z",
     "start_time": "2019-02-22T13:39:18.227014Z"
    }
   },
   "outputs": [
    {
     "data": {
      "image/png": "[encoded data removed]",
      "text/plain": [
       "<Figure size 432x288 with 1 Axes>"
      ]
     },
     "metadata": {
      "needs_background": "light"
     },
     "output_type": "display_data"
    }
   ],
   "source": [
    "pd.DataFrame(benchmark_metrics).plot.box()\n",
    "plt.xticks(rotation=90)\n",
    "plt.ylim((0,1))\n",
    "plt.xlabel(\"Metric\")\n",
    "plt.ylabel(\"Score\")\n",
    "plt.title(\"Classification performance on test set\")\n",
    "plt.show()"
   ]
  },
  {
   "cell_type": "markdown",
   "metadata": {},
   "source": [
    "# Regression\n",
    "\n",
    "## Load data"
   ]
  },
  {
   "cell_type": "code",
   "execution_count": 9,
   "metadata": {
    "ExecuteTime": {
     "end_time": "2019-02-22T13:39:18.466477Z",
     "start_time": "2019-02-22T13:39:18.443878Z"
    }
   },
   "outputs": [
    {
     "data": {
      "text/html": [
       "<div>\n",
       "<style scoped>\n",
       "    .dataframe tbody tr th:only-of-type {\n",
       "        vertical-align: middle;\n",
       "    }\n",
       "\n",
       "    .dataframe tbody tr th {\n",
       "        vertical-align: top;\n",
       "    }\n",
       "\n",
       "    .dataframe thead th {\n",
       "        text-align: right;\n",
       "    }\n",
       "</style>\n",
       "<table border=\"1\" class=\"dataframe\">\n",
       "  <thead>\n",
       "    <tr style=\"text-align: right;\">\n",
       "      <th></th>\n",
       "      <th>CRIM</th>\n",
       "      <th>ZN</th>\n",
       "      <th>INDUS</th>\n",
       "      <th>CHAS</th>\n",
       "      <th>NOX</th>\n",
       "      <th>RM</th>\n",
       "      <th>AGE</th>\n",
       "      <th>DIS</th>\n",
       "      <th>RAD</th>\n",
       "      <th>TAX</th>\n",
       "      <th>PTRATIO</th>\n",
       "      <th>B</th>\n",
       "      <th>LSTAT</th>\n",
       "    </tr>\n",
       "  </thead>\n",
       "  <tbody>\n",
       "    <tr>\n",
       "      <th>0</th>\n",
       "      <td>0.00632</td>\n",
       "      <td>18.0</td>\n",
       "      <td>2.31</td>\n",
       "      <td>0.0</td>\n",
       "      <td>0.538</td>\n",
       "      <td>6.575</td>\n",
       "      <td>65.2</td>\n",
       "      <td>4.0900</td>\n",
       "      <td>1.0</td>\n",
       "      <td>296.0</td>\n",
       "      <td>15.3</td>\n",
       "      <td>396.90</td>\n",
       "      <td>4.98</td>\n",
       "    </tr>\n",
       "    <tr>\n",
       "      <th>1</th>\n",
       "      <td>0.02731</td>\n",
       "      <td>0.0</td>\n",
       "      <td>7.07</td>\n",
       "      <td>0.0</td>\n",
       "      <td>0.469</td>\n",
       "      <td>6.421</td>\n",
       "      <td>78.9</td>\n",
       "      <td>4.9671</td>\n",
       "      <td>2.0</td>\n",
       "      <td>242.0</td>\n",
       "      <td>17.8</td>\n",
       "      <td>396.90</td>\n",
       "      <td>9.14</td>\n",
       "    </tr>\n",
       "    <tr>\n",
       "      <th>2</th>\n",
       "      <td>0.02729</td>\n",
       "      <td>0.0</td>\n",
       "      <td>7.07</td>\n",
       "      <td>0.0</td>\n",
       "      <td>0.469</td>\n",
       "      <td>7.185</td>\n",
       "      <td>61.1</td>\n",
       "      <td>4.9671</td>\n",
       "      <td>2.0</td>\n",
       "      <td>242.0</td>\n",
       "      <td>17.8</td>\n",
       "      <td>392.83</td>\n",
       "      <td>4.03</td>\n",
       "    </tr>\n",
       "    <tr>\n",
       "      <th>3</th>\n",
       "      <td>0.03237</td>\n",
       "      <td>0.0</td>\n",
       "      <td>2.18</td>\n",
       "      <td>0.0</td>\n",
       "      <td>0.458</td>\n",
       "      <td>6.998</td>\n",
       "      <td>45.8</td>\n",
       "      <td>6.0622</td>\n",
       "      <td>3.0</td>\n",
       "      <td>222.0</td>\n",
       "      <td>18.7</td>\n",
       "      <td>394.63</td>\n",
       "      <td>2.94</td>\n",
       "    </tr>\n",
       "    <tr>\n",
       "      <th>4</th>\n",
       "      <td>0.06905</td>\n",
       "      <td>0.0</td>\n",
       "      <td>2.18</td>\n",
       "      <td>0.0</td>\n",
       "      <td>0.458</td>\n",
       "      <td>7.147</td>\n",
       "      <td>54.2</td>\n",
       "      <td>6.0622</td>\n",
       "      <td>3.0</td>\n",
       "      <td>222.0</td>\n",
       "      <td>18.7</td>\n",
       "      <td>396.90</td>\n",
       "      <td>5.33</td>\n",
       "    </tr>\n",
       "  </tbody>\n",
       "</table>\n",
       "</div>"
      ],
      "text/plain": [
       "      CRIM    ZN  INDUS  CHAS    NOX     RM   AGE     DIS  RAD    TAX  \\\n",
       "0  0.00632  18.0   2.31   0.0  0.538  6.575  65.2  4.0900  1.0  296.0   \n",
       "1  0.02731   0.0   7.07   0.0  0.469  6.421  78.9  4.9671  2.0  242.0   \n",
       "2  0.02729   0.0   7.07   0.0  0.469  7.185  61.1  4.9671  2.0  242.0   \n",
       "3  0.03237   0.0   2.18   0.0  0.458  6.998  45.8  6.0622  3.0  222.0   \n",
       "4  0.06905   0.0   2.18   0.0  0.458  7.147  54.2  6.0622  3.0  222.0   \n",
       "\n",
       "   PTRATIO       B  LSTAT  \n",
       "0     15.3  396.90   4.98  \n",
       "1     17.8  396.90   9.14  \n",
       "2     17.8  392.83   4.03  \n",
       "3     18.7  394.63   2.94  \n",
       "4     18.7  396.90   5.33  "
      ]
     },
     "execution_count": 9,
     "metadata": {},
     "output_type": "execute_result"
    }
   ],
   "source": [
    "data = load_boston()\n",
    "y = pd.Series(data[\"target\"])\n",
    "X = pd.DataFrame(data[\"data\"], columns=data[\"feature_names\"])\n",
    "X.head()"
   ]
  },
  {
   "cell_type": "markdown",
   "metadata": {},
   "source": [
    "## Train a first model\n",
    "\n",
    "### Split in train, valid, test"
   ]
  },
  {
   "cell_type": "code",
   "execution_count": 10,
   "metadata": {
    "ExecuteTime": {
     "end_time": "2019-02-22T13:39:18.473395Z",
     "start_time": "2019-02-22T13:39:18.468011Z"
    }
   },
   "outputs": [],
   "source": [
    "X_train, X_val, y_train, y_val = train_test_split(X,y)\n",
    "X_train, X_test, y_train, y_test = train_test_split(X_train,y_train)"
   ]
  },
  {
   "cell_type": "markdown",
   "metadata": {},
   "source": [
    "### Tune xgboost regression with hyperopt"
   ]
  },
  {
   "cell_type": "code",
   "execution_count": 11,
   "metadata": {
    "ExecuteTime": {
     "end_time": "2019-02-22T13:39:20.218845Z",
     "start_time": "2019-02-22T13:39:18.475334Z"
    }
   },
   "outputs": [
    {
     "name": "stdout",
     "output_type": "stream",
     "text": [
      "100%|██████████| 10/10 [00:01<00:00,  6.11it/s, best loss: 9.178006289756667]\n"
     ]
    }
   ],
   "source": [
    "xgb_regressor = XGBRegressorTuning(X_train, y_train, X_val, y_val)"
   ]
  },
  {
   "cell_type": "markdown",
   "metadata": {},
   "source": [
    "### Regression report"
   ]
  },
  {
   "cell_type": "code",
   "execution_count": 12,
   "metadata": {
    "ExecuteTime": {
     "end_time": "2019-02-22T13:39:20.781186Z",
     "start_time": "2019-02-22T13:39:20.220789Z"
    }
   },
   "outputs": [
    {
     "data": {
      "image/png": "[encoded data removed]",
      "text/plain": [
       "<Figure size 432x288 with 1 Axes>"
      ]
     },
     "metadata": {
      "needs_background": "light"
     },
     "output_type": "display_data"
    },
    {
     "data": {
      "image/png": "[encoded data removed]",
      "text/plain": [
       "<Figure size 504x504 with 1 Axes>"
      ]
     },
     "metadata": {
      "needs_background": "light"
     },
     "output_type": "display_data"
    },
    {
     "data": {
      "image/png": "[encoded data removed]",
      "text/plain": [
       "<Figure size 504x504 with 1 Axes>"
      ]
     },
     "metadata": {
      "needs_background": "light"
     },
     "output_type": "display_data"
    },
    {
     "data": {
      "image/png": "[encoded data removed]",
      "text/plain": [
       "<Figure size 432x288 with 1 Axes>"
      ]
     },
     "metadata": {
      "needs_background": "light"
     },
     "output_type": "display_data"
    },
    {
     "data": {
      "text/html": [
       "<div>\n",
       "<style scoped>\n",
       "    .dataframe tbody tr th:only-of-type {\n",
       "        vertical-align: middle;\n",
       "    }\n",
       "\n",
       "    .dataframe tbody tr th {\n",
       "        vertical-align: top;\n",
       "    }\n",
       "\n",
       "    .dataframe thead th {\n",
       "        text-align: right;\n",
       "    }\n",
       "</style>\n",
       "<table border=\"1\" class=\"dataframe\">\n",
       "  <thead>\n",
       "    <tr style=\"text-align: right;\">\n",
       "      <th></th>\n",
       "      <th>explained_variance_score</th>\n",
       "      <th>mean_absolute_error</th>\n",
       "      <th>mean_squared_log_error</th>\n",
       "      <th>median_absolute_error</th>\n",
       "      <th>r2_score</th>\n",
       "    </tr>\n",
       "  </thead>\n",
       "  <tbody>\n",
       "    <tr>\n",
       "      <th>0</th>\n",
       "      <td>0.896274</td>\n",
       "      <td>2.150263</td>\n",
       "      <td>0.028229</td>\n",
       "      <td>1.454012</td>\n",
       "      <td>0.895614</td>\n",
       "    </tr>\n",
       "  </tbody>\n",
       "</table>\n",
       "</div>"
      ],
      "text/plain": [
       "   explained_variance_score  mean_absolute_error  mean_squared_log_error  \\\n",
       "0                  0.896274             2.150263                0.028229   \n",
       "\n",
       "   median_absolute_error  r2_score  \n",
       "0               1.454012  0.895614  "
      ]
     },
     "metadata": {},
     "output_type": "display_data"
    }
   ],
   "source": [
    "xgb_regressor.report(X_test, y_test)"
   ]
  },
  {
   "cell_type": "markdown",
   "metadata": {},
   "source": [
    "## Same process with one function"
   ]
  },
  {
   "cell_type": "code",
   "execution_count": 13,
   "metadata": {
    "ExecuteTime": {
     "end_time": "2019-02-22T13:39:22.981322Z",
     "start_time": "2019-02-22T13:39:20.783269Z"
    }
   },
   "outputs": [
    {
     "name": "stdout",
     "output_type": "stream",
     "text": [
      "100%|██████████| 10/10 [00:02<00:00,  4.93it/s, best loss: 18.024957971657887]\n"
     ]
    }
   ],
   "source": [
    "X_train, y_train, X_val, y_val, X_test, y_test, xgb_regressor = train_tuned_xgboost(\n",
    "    X,\n",
    "    y,\n",
    "    regression=True,\n",
    "    eval_metric=\"rmse\",\n",
    "    optimized_metric=metrics.mean_squared_error)"
   ]
  },
  {
   "cell_type": "markdown",
   "metadata": {},
   "source": [
    "## Repeat process to get a benchmark on the dataset"
   ]
  },
  {
   "cell_type": "code",
   "execution_count": 14,
   "metadata": {
    "ExecuteTime": {
     "end_time": "2019-02-22T13:39:41.684652Z",
     "start_time": "2019-02-22T13:39:22.982743Z"
    }
   },
   "outputs": [
    {
     "name": "stderr",
     "output_type": "stream",
     "text": [
      "\r",
      "  0%|          | 0/10 [00:00<?, ?it/s]"
     ]
    },
    {
     "name": "stdout",
     "output_type": "stream",
     "text": [
      "\n",
      "  0%|          | 0/10 [00:00<?, ?it/s, best loss: ?]\u001b[A\n",
      " 20%|██        | 2/10 [00:00<00:01,  4.37it/s, best loss: 19.198874238158677]\u001b[A\n",
      " 30%|███       | 3/10 [00:00<00:01,  4.21it/s, best loss: 19.198874238158677]\u001b[A\n",
      " 40%|████      | 4/10 [00:00<00:01,  4.37it/s, best loss: 17.57371028121043] \u001b[A\n",
      " 50%|█████     | 5/10 [00:01<00:01,  4.53it/s, best loss: 17.57371028121043]\u001b[A\n",
      " 60%|██████    | 6/10 [00:01<00:00,  4.84it/s, best loss: 17.57371028121043]\u001b[A\n",
      " 70%|███████   | 7/10 [00:01<00:00,  4.69it/s, best loss: 17.57371028121043]\u001b[A\n",
      " 80%|████████  | 8/10 [00:01<00:00,  5.27it/s, best loss: 17.57371028121043]\u001b[A\n",
      " 90%|█████████ | 9/10 [00:01<00:00,  4.76it/s, best loss: 17.57371028121043]\u001b[A\n",
      "100%|██████████| 10/10 [00:02<00:00,  4.09it/s, best loss: 17.57371028121043]\u001b[A\n",
      "\u001b[A"
     ]
    },
    {
     "name": "stderr",
     "output_type": "stream",
     "text": [
      "\r",
      " 10%|█         | 1/10 [00:02<00:23,  2.58s/it]"
     ]
    },
    {
     "name": "stdout",
     "output_type": "stream",
     "text": [
      "\n",
      "  0%|          | 0/10 [00:00<?, ?it/s, best loss: ?]\u001b[A\n",
      " 20%|██        | 2/10 [00:00<00:00, 12.00it/s, best loss: 13.65689057356082]\u001b[A\n",
      " 30%|███       | 3/10 [00:00<00:01,  5.55it/s, best loss: 9.706154298545712]\u001b[A\n",
      " 40%|████      | 4/10 [00:00<00:01,  5.76it/s, best loss: 9.706154298545712]\u001b[A\n",
      " 50%|█████     | 5/10 [00:00<00:00,  5.10it/s, best loss: 9.133626586228432]\u001b[A\n",
      " 60%|██████    | 6/10 [00:01<00:00,  5.81it/s, best loss: 9.133626586228432]\u001b[A\n",
      " 70%|███████   | 7/10 [00:01<00:00,  6.30it/s, best loss: 9.133626586228432]\u001b[A\n",
      " 80%|████████  | 8/10 [00:01<00:00,  5.26it/s, best loss: 9.133626586228432]\u001b[A\n",
      "100%|██████████| 10/10 [00:01<00:00,  6.64it/s, best loss: 9.133626586228432]\u001b[A\n",
      "\u001b[A"
     ]
    },
    {
     "name": "stderr",
     "output_type": "stream",
     "text": [
      "\r",
      " 20%|██        | 2/10 [00:04<00:18,  2.34s/it]"
     ]
    },
    {
     "name": "stdout",
     "output_type": "stream",
     "text": [
      "\n",
      "  0%|          | 0/10 [00:00<?, ?it/s, best loss: ?]\u001b[A\n",
      " 20%|██        | 2/10 [00:00<00:00, 11.22it/s, best loss: 11.080785986508271]\u001b[A\n",
      " 30%|███       | 3/10 [00:00<00:00,  9.04it/s, best loss: 8.3388798621966]   \u001b[A\n",
      " 50%|█████     | 5/10 [00:00<00:00,  9.62it/s, best loss: 8.3388798621966]\u001b[A\n",
      " 70%|███████   | 7/10 [00:00<00:00,  9.99it/s, best loss: 8.3388798621966]\u001b[A\n",
      " 90%|█████████ | 9/10 [00:01<00:00,  8.07it/s, best loss: 7.453249878581707]\u001b[A\n",
      "100%|██████████| 10/10 [00:01<00:00,  5.63it/s, best loss: 7.453249878581707]\u001b[A\n",
      "\u001b[A"
     ]
    },
    {
     "name": "stderr",
     "output_type": "stream",
     "text": [
      "\r",
      " 30%|███       | 3/10 [00:05<00:14,  2.11s/it]"
     ]
    },
    {
     "name": "stdout",
     "output_type": "stream",
     "text": [
      "\n",
      "  0%|          | 0/10 [00:00<?, ?it/s, best loss: ?]\u001b[A\n",
      " 10%|█         | 1/10 [00:00<00:01,  5.74it/s, best loss: 10.796507496377473]\u001b[A\n",
      " 20%|██        | 2/10 [00:00<00:01,  6.22it/s, best loss: 10.796507496377473]\u001b[A\n",
      " 30%|███       | 3/10 [00:00<00:01,  6.02it/s, best loss: 10.796507496377473]\u001b[A\n",
      " 40%|████      | 4/10 [00:00<00:00,  6.44it/s, best loss: 10.796507496377473]\u001b[A\n",
      " 50%|█████     | 5/10 [00:00<00:00,  6.60it/s, best loss: 10.796507496377473]\u001b[A\n",
      " 60%|██████    | 6/10 [00:01<00:00,  5.15it/s, best loss: 10.796507496377473]\u001b[A\n",
      " 70%|███████   | 7/10 [00:01<00:00,  4.61it/s, best loss: 10.796507496377473]\u001b[A\n",
      " 80%|████████  | 8/10 [00:01<00:00,  5.16it/s, best loss: 10.796507496377473]\u001b[A\n",
      " 90%|█████████ | 9/10 [00:01<00:00,  5.96it/s, best loss: 10.796507496377473]\u001b[A\n",
      "100%|██████████| 10/10 [00:01<00:00,  5.80it/s, best loss: 9.87337313788929] \u001b[A\n",
      "\u001b[A"
     ]
    },
    {
     "name": "stderr",
     "output_type": "stream",
     "text": [
      "\r",
      " 40%|████      | 4/10 [00:07<00:12,  2.04s/it]"
     ]
    },
    {
     "name": "stdout",
     "output_type": "stream",
     "text": [
      "\n",
      "  0%|          | 0/10 [00:00<?, ?it/s, best loss: ?]\u001b[A\n",
      " 20%|██        | 2/10 [00:00<00:00,  9.01it/s, best loss: 9.519432468950432]\u001b[A\n",
      " 30%|███       | 3/10 [00:00<00:00,  7.38it/s, best loss: 9.102102001084951]\u001b[A\n",
      " 40%|████      | 4/10 [00:00<00:00,  6.59it/s, best loss: 9.102102001084951]\u001b[A\n",
      " 60%|██████    | 6/10 [00:00<00:00,  7.59it/s, best loss: 9.102102001084951]\u001b[A\n",
      " 70%|███████   | 7/10 [00:00<00:00,  7.91it/s, best loss: 9.102102001084951]\u001b[A\n",
      " 80%|████████  | 8/10 [00:01<00:00,  7.16it/s, best loss: 9.102102001084951]\u001b[A\n",
      " 90%|█████████ | 9/10 [00:01<00:00,  6.97it/s, best loss: 9.102102001084951]\u001b[A\n",
      "100%|██████████| 10/10 [00:01<00:00,  6.77it/s, best loss: 9.102102001084951]\u001b[A\n",
      "\u001b[A"
     ]
    },
    {
     "name": "stderr",
     "output_type": "stream",
     "text": [
      "\r",
      " 50%|█████     | 5/10 [00:09<00:09,  1.90s/it]"
     ]
    },
    {
     "name": "stdout",
     "output_type": "stream",
     "text": [
      "\n",
      "  0%|          | 0/10 [00:00<?, ?it/s, best loss: ?]\u001b[A\n",
      " 10%|█         | 1/10 [00:00<00:02,  3.08it/s, best loss: 13.601797727942483]\u001b[A\n",
      " 30%|███       | 3/10 [00:00<00:01,  4.09it/s, best loss: 13.601797727942483]\u001b[A\n",
      " 40%|████      | 4/10 [00:00<00:01,  4.39it/s, best loss: 13.601797727942483]\u001b[A\n",
      " 50%|█████     | 5/10 [00:00<00:01,  4.57it/s, best loss: 13.601797727942483]\u001b[A\n",
      " 60%|██████    | 6/10 [00:00<00:00,  5.35it/s, best loss: 13.601797727942483]\u001b[A\n",
      " 70%|███████   | 7/10 [00:01<00:00,  4.82it/s, best loss: 13.601797727942483]\u001b[A\n",
      " 80%|████████  | 8/10 [00:01<00:00,  4.76it/s, best loss: 13.601797727942483]\u001b[A\n",
      " 90%|█████████ | 9/10 [00:01<00:00,  4.41it/s, best loss: 13.601797727942483]\u001b[A\n",
      "100%|██████████| 10/10 [00:01<00:00,  5.66it/s, best loss: 13.601797727942483]\u001b[A"
     ]
    },
    {
     "name": "stderr",
     "output_type": "stream",
     "text": [
      "\r",
      " 60%|██████    | 6/10 [00:11<00:07,  1.94s/it]"
     ]
    },
    {
     "name": "stdout",
     "output_type": "stream",
     "text": [
      "\n",
      "  0%|          | 0/10 [00:00<?, ?it/s, best loss: ?]\u001b[A\n",
      " 10%|█         | 1/10 [00:00<00:01,  5.12it/s, best loss: 11.178896611508451]\u001b[A\n",
      " 20%|██        | 2/10 [00:00<00:01,  5.42it/s, best loss: 11.178896611508451]\u001b[A\n",
      " 40%|████      | 4/10 [00:00<00:01,  5.67it/s, best loss: 11.178896611508451]\u001b[A\n",
      " 50%|█████     | 5/10 [00:00<00:00,  5.16it/s, best loss: 11.178896611508451]\u001b[A\n",
      " 60%|██████    | 6/10 [00:01<00:00,  5.19it/s, best loss: 11.178896611508451]\u001b[A\n",
      " 70%|███████   | 7/10 [00:01<00:00,  4.85it/s, best loss: 11.178896611508451]\u001b[A\n",
      " 80%|████████  | 8/10 [00:01<00:00,  5.01it/s, best loss: 11.178896611508451]\u001b[A\n",
      " 90%|█████████ | 9/10 [00:01<00:00,  5.48it/s, best loss: 11.178896611508451]\u001b[A\n",
      "100%|██████████| 10/10 [00:01<00:00,  5.51it/s, best loss: 11.178896611508451]\u001b[A\n",
      "\u001b[A"
     ]
    },
    {
     "name": "stderr",
     "output_type": "stream",
     "text": [
      "\r",
      " 70%|███████   | 7/10 [00:13<00:05,  1.98s/it]"
     ]
    },
    {
     "name": "stdout",
     "output_type": "stream",
     "text": [
      "\n",
      "  0%|          | 0/10 [00:00<?, ?it/s, best loss: ?]\u001b[A\n",
      " 20%|██        | 2/10 [00:00<00:00,  8.97it/s, best loss: 5.970579843109603]\u001b[A\n",
      " 30%|███       | 3/10 [00:00<00:00,  9.08it/s, best loss: 5.970579843109603]\u001b[A\n",
      " 40%|████      | 4/10 [00:00<00:00,  8.69it/s, best loss: 5.970579843109603]\u001b[A\n",
      " 60%|██████    | 6/10 [00:00<00:00,  8.69it/s, best loss: 5.555581446411506]\u001b[A\n",
      " 70%|███████   | 7/10 [00:00<00:00,  7.67it/s, best loss: 5.548724812684434]\u001b[A\n",
      " 80%|████████  | 8/10 [00:01<00:00,  6.87it/s, best loss: 5.548724812684434]\u001b[A\n",
      " 90%|█████████ | 9/10 [00:01<00:00,  5.71it/s, best loss: 5.030510430996779]\u001b[A\n",
      "100%|██████████| 10/10 [00:01<00:00,  7.29it/s, best loss: 5.030510430996779]\u001b[A"
     ]
    },
    {
     "name": "stderr",
     "output_type": "stream",
     "text": [
      "\r",
      " 80%|████████  | 8/10 [00:15<00:03,  1.91s/it]"
     ]
    },
    {
     "name": "stdout",
     "output_type": "stream",
     "text": [
      "\n",
      "  0%|          | 0/10 [00:00<?, ?it/s, best loss: ?]\u001b[A\n",
      " 10%|█         | 1/10 [00:00<00:01,  5.27it/s, best loss: 16.984181962489583]\u001b[A\n",
      " 20%|██        | 2/10 [00:00<00:01,  5.74it/s, best loss: 16.984181962489583]\u001b[A\n",
      " 30%|███       | 3/10 [00:00<00:01,  5.38it/s, best loss: 13.704782536460291]\u001b[A\n",
      " 40%|████      | 4/10 [00:00<00:00,  6.20it/s, best loss: 13.704782536460291]\u001b[A\n",
      " 60%|██████    | 6/10 [00:00<00:00,  7.32it/s, best loss: 13.704782536460291]\u001b[A\n",
      " 70%|███████   | 7/10 [00:01<00:00,  5.74it/s, best loss: 13.704782536460291]\u001b[A\n",
      " 80%|████████  | 8/10 [00:01<00:00,  5.05it/s, best loss: 13.704782536460291]\u001b[A\n",
      " 90%|█████████ | 9/10 [00:01<00:00,  5.29it/s, best loss: 13.704782536460291]\u001b[A\n",
      "100%|██████████| 10/10 [00:01<00:00,  6.52it/s, best loss: 13.704782536460291]\u001b[A"
     ]
    },
    {
     "name": "stderr",
     "output_type": "stream",
     "text": [
      "\r",
      " 90%|█████████ | 9/10 [00:16<00:01,  1.86s/it]"
     ]
    },
    {
     "name": "stdout",
     "output_type": "stream",
     "text": [
      "\n",
      "  0%|          | 0/10 [00:00<?, ?it/s, best loss: ?]\u001b[A\n",
      " 10%|█         | 1/10 [00:00<00:03,  2.40it/s, best loss: 26.49624452645291]\u001b[A\n",
      " 20%|██        | 2/10 [00:00<00:02,  2.96it/s, best loss: 26.49624452645291]\u001b[A\n",
      " 30%|███       | 3/10 [00:00<00:02,  3.37it/s, best loss: 25.654673592927416]\u001b[A\n",
      " 40%|████      | 4/10 [00:00<00:01,  3.68it/s, best loss: 24.52204156855211] \u001b[A\n",
      " 60%|██████    | 6/10 [00:01<00:00,  4.56it/s, best loss: 24.52204156855211]\u001b[A\n",
      " 80%|████████  | 8/10 [00:01<00:00,  5.58it/s, best loss: 24.52204156855211]\u001b[A\n",
      " 90%|█████████ | 9/10 [00:01<00:00,  6.14it/s, best loss: 24.138600217600313]\u001b[A\n",
      "100%|██████████| 10/10 [00:01<00:00,  6.39it/s, best loss: 24.138600217600313]\u001b[A\n",
      "\u001b[A"
     ]
    },
    {
     "name": "stderr",
     "output_type": "stream",
     "text": [
      "100%|██████████| 10/10 [00:18<00:00,  1.82s/it]\n"
     ]
    }
   ],
   "source": [
    "benchmark_metrics = xgboost_baseline(\n",
    "    X,\n",
    "    y,\n",
    "    n_splits=10,\n",
    "    regression=True,\n",
    "    eval_metric=\"rmse\",\n",
    "    optimized_metric=metrics.mean_squared_error)"
   ]
  },
  {
   "cell_type": "code",
   "execution_count": 15,
   "metadata": {
    "ExecuteTime": {
     "end_time": "2019-02-22T13:39:41.705817Z",
     "start_time": "2019-02-22T13:39:41.687083Z"
    }
   },
   "outputs": [
    {
     "data": {
      "text/html": [
       "<div>\n",
       "<style scoped>\n",
       "    .dataframe tbody tr th:only-of-type {\n",
       "        vertical-align: middle;\n",
       "    }\n",
       "\n",
       "    .dataframe tbody tr th {\n",
       "        vertical-align: top;\n",
       "    }\n",
       "\n",
       "    .dataframe thead th {\n",
       "        text-align: right;\n",
       "    }\n",
       "</style>\n",
       "<table border=\"1\" class=\"dataframe\">\n",
       "  <thead>\n",
       "    <tr style=\"text-align: right;\">\n",
       "      <th></th>\n",
       "      <th>explained_variance_score</th>\n",
       "      <th>mean_absolute_error</th>\n",
       "      <th>mean_squared_log_error</th>\n",
       "      <th>median_absolute_error</th>\n",
       "      <th>r2_score</th>\n",
       "    </tr>\n",
       "  </thead>\n",
       "  <tbody>\n",
       "    <tr>\n",
       "      <th>0</th>\n",
       "      <td>0.818899</td>\n",
       "      <td>2.585274</td>\n",
       "      <td>0.025185</td>\n",
       "      <td>1.820383</td>\n",
       "      <td>0.818831</td>\n",
       "    </tr>\n",
       "    <tr>\n",
       "      <th>1</th>\n",
       "      <td>0.831003</td>\n",
       "      <td>2.201932</td>\n",
       "      <td>0.024544</td>\n",
       "      <td>1.515150</td>\n",
       "      <td>0.829724</td>\n",
       "    </tr>\n",
       "    <tr>\n",
       "      <th>2</th>\n",
       "      <td>0.838268</td>\n",
       "      <td>2.328578</td>\n",
       "      <td>0.022666</td>\n",
       "      <td>1.584945</td>\n",
       "      <td>0.835289</td>\n",
       "    </tr>\n",
       "    <tr>\n",
       "      <th>3</th>\n",
       "      <td>0.869368</td>\n",
       "      <td>2.213896</td>\n",
       "      <td>0.018857</td>\n",
       "      <td>1.629881</td>\n",
       "      <td>0.869310</td>\n",
       "    </tr>\n",
       "    <tr>\n",
       "      <th>4</th>\n",
       "      <td>0.873347</td>\n",
       "      <td>2.274938</td>\n",
       "      <td>0.023231</td>\n",
       "      <td>1.687037</td>\n",
       "      <td>0.873307</td>\n",
       "    </tr>\n",
       "    <tr>\n",
       "      <th>5</th>\n",
       "      <td>0.856929</td>\n",
       "      <td>2.572240</td>\n",
       "      <td>0.020896</td>\n",
       "      <td>1.684956</td>\n",
       "      <td>0.855458</td>\n",
       "    </tr>\n",
       "    <tr>\n",
       "      <th>6</th>\n",
       "      <td>0.896068</td>\n",
       "      <td>2.073449</td>\n",
       "      <td>0.016101</td>\n",
       "      <td>1.666128</td>\n",
       "      <td>0.896001</td>\n",
       "    </tr>\n",
       "    <tr>\n",
       "      <th>7</th>\n",
       "      <td>0.895035</td>\n",
       "      <td>2.316667</td>\n",
       "      <td>0.019796</td>\n",
       "      <td>1.612094</td>\n",
       "      <td>0.894887</td>\n",
       "    </tr>\n",
       "    <tr>\n",
       "      <th>8</th>\n",
       "      <td>0.866364</td>\n",
       "      <td>2.188510</td>\n",
       "      <td>0.017128</td>\n",
       "      <td>1.680547</td>\n",
       "      <td>0.866277</td>\n",
       "    </tr>\n",
       "    <tr>\n",
       "      <th>9</th>\n",
       "      <td>0.876836</td>\n",
       "      <td>2.616784</td>\n",
       "      <td>0.026909</td>\n",
       "      <td>1.767029</td>\n",
       "      <td>0.866335</td>\n",
       "    </tr>\n",
       "  </tbody>\n",
       "</table>\n",
       "</div>"
      ],
      "text/plain": [
       "   explained_variance_score  mean_absolute_error  mean_squared_log_error  \\\n",
       "0                  0.818899             2.585274                0.025185   \n",
       "1                  0.831003             2.201932                0.024544   \n",
       "2                  0.838268             2.328578                0.022666   \n",
       "3                  0.869368             2.213896                0.018857   \n",
       "4                  0.873347             2.274938                0.023231   \n",
       "5                  0.856929             2.572240                0.020896   \n",
       "6                  0.896068             2.073449                0.016101   \n",
       "7                  0.895035             2.316667                0.019796   \n",
       "8                  0.866364             2.188510                0.017128   \n",
       "9                  0.876836             2.616784                0.026909   \n",
       "\n",
       "   median_absolute_error  r2_score  \n",
       "0               1.820383  0.818831  \n",
       "1               1.515150  0.829724  \n",
       "2               1.584945  0.835289  \n",
       "3               1.629881  0.869310  \n",
       "4               1.687037  0.873307  \n",
       "5               1.684956  0.855458  \n",
       "6               1.666128  0.896001  \n",
       "7               1.612094  0.894887  \n",
       "8               1.680547  0.866277  \n",
       "9               1.767029  0.866335  "
      ]
     },
     "execution_count": 15,
     "metadata": {},
     "output_type": "execute_result"
    }
   ],
   "source": [
    "df_benchmark = pd.DataFrame(benchmark_metrics)\n",
    "df_benchmark"
   ]
  },
  {
   "cell_type": "code",
   "execution_count": 16,
   "metadata": {
    "ExecuteTime": {
     "end_time": "2019-02-22T13:39:42.257192Z",
     "start_time": "2019-02-22T13:39:41.708764Z"
    }
   },
   "outputs": [
    {
     "data": {
      "image/png": "[encoded data removed]",
      "text/plain": [
       "<Figure size 432x288 with 1 Axes>"
      ]
     },
     "metadata": {
      "needs_background": "light"
     },
     "output_type": "display_data"
    },
    {
     "data": {
      "image/png": "[encoded data removed]",
      "text/plain": [
       "<Figure size 432x288 with 1 Axes>"
      ]
     },
     "metadata": {
      "needs_background": "light"
     },
     "output_type": "display_data"
    },
    {
     "data": {
      "image/png": "[encoded data removed]",
      "text/plain": [
       "<Figure size 432x288 with 1 Axes>"
      ]
     },
     "metadata": {
      "needs_background": "light"
     },
     "output_type": "display_data"
    },
    {
     "data": {
      "image/png": "[encoded data removed]",
      "text/plain": [
       "<Figure size 432x288 with 1 Axes>"
      ]
     },
     "metadata": {
      "needs_background": "light"
     },
     "output_type": "display_data"
    },
    {
     "data": {
      "image/png": "[encoded data removed]",
      "text/plain": [
       "<Figure size 432x288 with 1 Axes>"
      ]
     },
     "metadata": {
      "needs_background": "light"
     },
     "output_type": "display_data"
    }
   ],
   "source": [
    "for col in df_benchmark.columns:\n",
    "    df_benchmark[col].plot(kind=\"box\")\n",
    "    plt.title(\"Boxplot \" + col)\n",
    "    if col in [\"explained_variance_score\", \"r2_score\"]:\n",
    "        plt.ylim((0, 1))\n",
    "    plt.show()"
   ]
  }
 ],
 "metadata": {
  "hide_input": false,
  "kernelspec": {
   "display_name": "Python 3",
   "language": "python",
   "name": "python3"
  },
  "language_info": {
   "codemirror_mode": {
    "name": "ipython",
    "version": 3
   },
   "file_extension": ".py",
   "mimetype": "text/x-python",
   "name": "python",
   "nbconvert_exporter": "python",
   "pygments_lexer": "ipython3",
   "version": "3.7.1"
  },
  "toc": {
   "base_numbering": 1,
   "nav_menu": {},
   "number_sections": true,
   "sideBar": true,
   "skip_h1_title": false,
   "title_cell": "Table of Contents",
   "title_sidebar": "Contents",
   "toc_cell": false,
   "toc_position": {
    "height": "calc(100% - 180px)",
    "left": "10px",
    "top": "150px",
    "width": "384px"
   },
   "toc_section_display": true,
   "toc_window_display": true
  },
  "varInspector": {
   "cols": {
    "lenName": 16,
    "lenType": 16,
    "lenVar": 40
   },
   "kernels_config": {
    "python": {
     "delete_cmd_postfix": "",
     "delete_cmd_prefix": "del ",
     "library": "var_list.py",
     "varRefreshCmd": "print(var_dic_list())"
    },
    "r": {
     "delete_cmd_postfix": ") ",
     "delete_cmd_prefix": "rm(",
     "library": "var_list.r",
     "varRefreshCmd": "cat(var_dic_list()) "
    }
   },
   "types_to_exclude": [
    "module",
    "function",
    "builtin_function_or_method",
    "instance",
    "_Feature"
   ],
   "window_display": false
  }
 },
 "nbformat": 4,
 "nbformat_minor": 2
}
